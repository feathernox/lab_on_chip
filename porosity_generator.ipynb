{
 "cells": [
  {
   "cell_type": "code",
   "execution_count": 1,
   "metadata": {},
   "outputs": [],
   "source": [
    "import numpy as np\n",
    "import matplotlib.pyplot as plt\n",
    "import porespy as ps\n",
    "import cv2\n",
    "\n",
    "%matplotlib inline"
   ]
  },
  {
   "cell_type": "code",
   "execution_count": 95,
   "metadata": {},
   "outputs": [],
   "source": [
    "def generate_image(width, height, radiuses, volume_fractions=None):\n",
    "    image = np.zeros([width, height])\n",
    "    points = {}\n",
    "    for i, r in enumerate(radiuses):\n",
    "        if volume_fractions is None:\n",
    "            vf = 1\n",
    "        else:\n",
    "            vf = volume_fractions[i]\n",
    "        image = ps.generators.RSA(im=image, radius=r, volume_fraction=vf)\n",
    "        for x, y in zip(*np.where(image == 2)):\n",
    "            if (x, y) not in points:\n",
    "                points[(x, y)] = r\n",
    "    print('――――――――――――――――――――――――――――――――――――――――――――――――――――――――――――――――――――――――――――――')\n",
    "    return image, points\n",
    "\n",
    "def draw_from_points(width, height, points):\n",
    "    img = np.zeros([width, height])\n",
    "    for center, radius in points.items():\n",
    "        img = cv2.circle(img, center, radius, 1, -1)\n",
    "    volume = (img > 0).mean()\n",
    "    print('Final volume fraction:', volume)\n",
    "    return img"
   ]
  },
  {
   "cell_type": "code",
   "execution_count": 100,
   "metadata": {},
   "outputs": [
    {
     "name": "stdout",
     "output_type": "stream",
     "text": [
      "――――――――――――――――――――――――――――――――――――――――――――――――――――――――――――――――――――――――――――――\n",
      "RSA: Adding spheres of size 90\n",
      "Volume Fraction 0.1 reached\n",
      "――――――――――――――――――――――――――――――――――――――――――――――――――――――――――――――――――――――――――――――\n",
      "RSA: Adding spheres of size 75\n",
      "Volume Fraction 0.4 reached\n",
      "――――――――――――――――――――――――――――――――――――――――――――――――――――――――――――――――――――――――――――――\n",
      "RSA: Adding spheres of size 60\n",
      "No more free spots Volume Fraction 0.617771\n",
      "――――――――――――――――――――――――――――――――――――――――――――――――――――――――――――――――――――――――――――――\n",
      "RSA: Adding spheres of size 45\n",
      "Volume Fraction 0.7 reached\n",
      "――――――――――――――――――――――――――――――――――――――――――――――――――――――――――――――――――――――――――――――\n",
      "Final volume fraction: 0.515103\n"
     ]
    },
    {
     "data": {
      "image/png": "[encoded data removed]",
      "text/plain": [
       "<Figure size 720x720 with 1 Axes>"
      ]
     },
     "metadata": {
      "needs_background": "light"
     },
     "output_type": "display_data"
    }
   ],
   "source": [
    "width, height = 1000, 1000\n",
    "delta = 10\n",
    "_, pts = generate_image(width, height, radiuses=[90, 75, 60, 45],\n",
    "                                       volume_fractions=[0.1, 0.4, 0.7, 0.7])\n",
    "for pt in pts:\n",
    "    pts[pt] = pts[pt] - delta\n",
    "\n",
    "plt.figure(figsize=(10, 10))\n",
    "plt.imshow(draw_from_points(width, height, pts))\n",
    "plt.show()"
   ]
  },
  {
   "cell_type": "code",
   "execution_count": 101,
   "metadata": {},
   "outputs": [
    {
     "data": {
      "text/plain": [
       "{(190, 495): 80,\n",
       " (549, 474): 80,\n",
       " (555, 887): 80,\n",
       " (757, 300): 80,\n",
       " (952, 379): 80,\n",
       " (57, 19): 65,\n",
       " (89, 202): 65,\n",
       " (114, 713): 65,\n",
       " (184, 918): 65,\n",
       " (221, 327): 65,\n",
       " (260, 137): 65,\n",
       " (345, 701): 65,\n",
       " (365, 895): 65,\n",
       " (439, 13): 65,\n",
       " (500, 252): 65,\n",
       " (519, 660): 65,\n",
       " (580, 88): 65,\n",
       " (736, 108): 65,\n",
       " (789, 558): 65,\n",
       " (832, 706): 65,\n",
       " (900, 111): 65,\n",
       " (910, 942): 65,\n",
       " (5, 543): 50,\n",
       " (14, 804): 50,\n",
       " (37, 958): 50,\n",
       " (38, 410): 50,\n",
       " (238, 784): 50,\n",
       " (305, 6): 50,\n",
       " (337, 441): 50,\n",
       " (366, 251): 50,\n",
       " (415, 552): 50,\n",
       " (438, 373): 50,\n",
       " (452, 999): 50,\n",
       " (607, 335): 50,\n",
       " (633, 214): 50,\n",
       " (663, 998): 50,\n",
       " (667, 646): 50,\n",
       " (712, 447): 50,\n",
       " (722, 796): 50,\n",
       " (770, 915): 50,\n",
       " (819, 1): 50,\n",
       " (950, 630): 50,\n",
       " (961, 794): 50,\n",
       " (995, 222): 50,\n",
       " (998, 1): 50,\n",
       " (1, 302): 35,\n",
       " (2, 655): 35,\n",
       " (97, 322): 35,\n",
       " (197, 15): 35,\n",
       " (219, 641): 35,\n",
       " (284, 999): 35,\n",
       " (308, 572): 35,\n",
       " (417, 159): 35,\n",
       " (452, 800): 35,\n",
       " (617, 762): 35,\n",
       " (666, 542): 35,\n",
       " (677, 0): 35,\n",
       " (830, 438): 35,\n",
       " (848, 838): 35,\n",
       " (889, 234): 35,\n",
       " (979, 529): 35}"
      ]
     },
     "execution_count": 101,
     "metadata": {},
     "output_type": "execute_result"
    }
   ],
   "source": [
    "pts"
   ]
  }
 ],
 "metadata": {
  "kernelspec": {
   "display_name": "Python 3",
   "language": "python",
   "name": "python3"
  },
  "language_info": {
   "codemirror_mode": {
    "name": "ipython",
    "version": 3
   },
   "file_extension": ".py",
   "mimetype": "text/x-python",
   "name": "python",
   "nbconvert_exporter": "python",
   "pygments_lexer": "ipython3",
   "version": "3.7.3"
  }
 },
 "nbformat": 4,
 "nbformat_minor": 2
}
